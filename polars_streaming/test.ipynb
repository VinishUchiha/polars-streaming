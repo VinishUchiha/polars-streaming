{
 "cells": [
  {
   "cell_type": "code",
   "execution_count": 1,
   "metadata": {},
   "outputs": [],
   "source": [
    "from core import StreamProcessor"
   ]
  },
  {
   "cell_type": "code",
   "execution_count": 2,
   "metadata": {},
   "outputs": [],
   "source": [
    "s = StreamProcessor()"
   ]
  },
  {
   "cell_type": "code",
   "execution_count": 3,
   "metadata": {},
   "outputs": [],
   "source": [
    "ss = s.format('csv').load('/home/alchemist/Desktop/OpenSource/streaming_test/test')"
   ]
  },
  {
   "cell_type": "code",
   "execution_count": 4,
   "metadata": {},
   "outputs": [
    {
     "name": "stdout",
     "output_type": "stream",
     "text": [
      "A new create event was made /home/alchemist/Desktop/OpenSource/streaming_test/test/pg.csv\n",
      "shape: (5, 5)\n",
      "┌─────┬──────────────────┬────────────────────────┬─────────────────┬─────────────────┐\n",
      "│ id  ┆ keystr           ┆ valstr                 ┆ created_at      ┆ updated_at      │\n",
      "│ --- ┆ ---              ┆ ---                    ┆ ---             ┆ ---             │\n",
      "│ i64 ┆ str              ┆ str                    ┆ str             ┆ str             │\n",
      "╞═════╪══════════════════╪════════════════════════╪═════════════════╪═════════════════╡\n",
      "│ 1   ┆ user_id          ┆ 13149                  ┆ 2022-12-18      ┆ 2023-03-29      │\n",
      "│     ┆                  ┆                        ┆ 07:15:12.892236 ┆ 07:38:00.473446 │\n",
      "│ 2   ┆ user_email       ┆ vinishuchiha@gmail.com ┆ 2022-12-18      ┆ 2023-03-29      │\n",
      "│     ┆                  ┆                        ┆ 07:15:12.894232 ┆ 07:38:00.490984 │\n",
      "│ 3   ┆ user_displayname ┆ Vinish M               ┆ 2022-12-18      ┆ 2023-03-29      │\n",
      "│     ┆                  ┆                        ┆ 07:15:12.895885 ┆ 07:38:00.492731 │\n",
      "│ 4   ┆ context_id       ┆ 5                      ┆ 2022-12-18      ┆ 2023-03-29      │\n",
      "│     ┆                  ┆                        ┆ 07:15:12.897326 ┆ 07:38:00.494255 │\n",
      "│ 5   ┆ context_title    ┆ Postgres for Everybody ┆ 2022-12-18      ┆ 2023-03-29      │\n",
      "│     ┆                  ┆                        ┆ 07:15:12.898705 ┆ 07:38:00.495946 │\n",
      "└─────┴──────────────────┴────────────────────────┴─────────────────┴─────────────────┘\n",
      "A new create event was made /home/alchemist/Desktop/OpenSource/streaming_test/test/sr.csv\n",
      "shape: (5, 20)\n",
      "┌───────┬───────────┬───────────┬────────────┬───┬──────────────┬─────────────┬───────────┬────────┐\n",
      "│ recid ┆ recid_lmx ┆ recid_plo ┆ recid_pou_ ┆ … ┆ lastupdate   ┆ utcdatetime ┆ recid_vlo ┆ webtxn │\n",
      "│ ---   ┆ id        ┆ ---       ┆ opened     ┆   ┆ ---          ┆ ---         ┆ ---       ┆ ---    │\n",
      "│ i64   ┆ ---       ┆ i64       ┆ ---        ┆   ┆ str          ┆ str         ┆ str       ┆ str    │\n",
      "│       ┆ i64       ┆           ┆ i64        ┆   ┆              ┆             ┆           ┆        │\n",
      "╞═══════╪═══════════╪═══════════╪════════════╪═══╪══════════════╪═════════════╪═══════════╪════════╡\n",
      "│ 6508  ┆ 1319      ┆ 3         ┆ 7          ┆ … ┆ 2019-03-11   ┆ 2019-03-10  ┆ null      ┆ null   │\n",
      "│       ┆           ┆           ┆            ┆   ┆ 19:39:17     ┆ 19:24:21    ┆           ┆        │\n",
      "│ 6575  ┆ 1319      ┆ 3         ┆ 13         ┆ … ┆ 2019-03-11   ┆ 2019-03-11  ┆ null      ┆ null   │\n",
      "│       ┆           ┆           ┆            ┆   ┆ 19:39:18     ┆ 00:07:35    ┆           ┆        │\n",
      "│ 6583  ┆ 1319      ┆ 3         ┆ 7          ┆ … ┆ 2019-03-11   ┆ 2019-03-11  ┆ null      ┆ null   │\n",
      "│       ┆           ┆           ┆            ┆   ┆ 19:39:18     ┆ 01:15:46    ┆           ┆        │\n",
      "│ 6646  ┆ 1319      ┆ 3         ┆ 20         ┆ … ┆ 2019-03-11   ┆ 2019-03-11  ┆ null      ┆ null   │\n",
      "│       ┆           ┆           ┆            ┆   ┆ 19:39:19     ┆ 03:50:27    ┆           ┆        │\n",
      "│ 6698  ┆ 1319      ┆ 3         ┆ 7          ┆ … ┆ 2019-03-11   ┆ 2019-03-10  ┆ null      ┆ null   │\n",
      "│       ┆           ┆           ┆            ┆   ┆ 19:39:19     ┆ 22:28:55    ┆           ┆        │\n",
      "└───────┴───────────┴───────────┴────────────┴───┴──────────────┴─────────────┴───────────┴────────┘\n"
     ]
    }
   ],
   "source": [
    "ss.start()"
   ]
  },
  {
   "cell_type": "code",
   "execution_count": 3,
   "metadata": {},
   "outputs": [
    {
     "name": "stdout",
     "output_type": "stream",
     "text": [
      "/home/alchemist/Desktop/OpenSource/streaming_test/test/data2.csv\n",
      "/home/alchemist/Desktop/OpenSource/streaming_test/test/data2uploaded.csv\n",
      "/home/alchemist/Desktop/OpenSource/streaming_test/test/pg.csv\n",
      "/home/alchemist/Desktop/OpenSource/streaming_test/test/sr.csv\n"
     ]
    }
   ],
   "source": [
    "import glob\n",
    "import os\n",
    "\n",
    "files = glob.glob(\"/home/alchemist/Desktop/OpenSource/streaming_test/test/*.csv\")\n",
    "files.sort(key=os.path.getmtime)\n",
    "print(\"\\n\".join(files))"
   ]
  },
  {
   "cell_type": "code",
   "execution_count": 4,
   "metadata": {},
   "outputs": [],
   "source": [
    "from readwriter import DataStreamReader"
   ]
  },
  {
   "cell_type": "code",
   "execution_count": 5,
   "metadata": {},
   "outputs": [],
   "source": [
    "ds= DataStreamReader().format('csv').load('/home/alchemist/Desktop/OpenSource/streaming_test/test/', preFetchFirstBatch=True)"
   ]
  },
  {
   "cell_type": "code",
   "execution_count": null,
   "metadata": {},
   "outputs": [],
   "source": [
    "df = ds.df"
   ]
  },
  {
   "cell_type": "code",
   "execution_count": 1,
   "metadata": {},
   "outputs": [],
   "source": [
    "from core import StreamProcessor"
   ]
  },
  {
   "cell_type": "code",
   "execution_count": 2,
   "metadata": {},
   "outputs": [],
   "source": [
    "ap = StreamProcessor()"
   ]
  },
  {
   "cell_type": "code",
   "execution_count": 3,
   "metadata": {},
   "outputs": [
    {
     "data": {
      "text/plain": [
       "<readwriter.DataStreamReader at 0x7f70d014c210>"
      ]
     },
     "execution_count": 3,
     "metadata": {},
     "output_type": "execute_result"
    }
   ],
   "source": [
    "ap.readStream.format('csv').load('/home/alchemist/Desktop/OpenSource/streaming_test/test/', preFetchFirstBatch=True)"
   ]
  },
  {
   "cell_type": "code",
   "execution_count": 4,
   "metadata": {},
   "outputs": [],
   "source": [
    "df = ap.preFetchedDF()"
   ]
  },
  {
   "cell_type": "code",
   "execution_count": 5,
   "metadata": {},
   "outputs": [],
   "source": [
    "def transformation(df):\n",
    "    return df.tail(3)"
   ]
  },
  {
   "cell_type": "code",
   "execution_count": 6,
   "metadata": {},
   "outputs": [],
   "source": [
    "ap.add_transform(transformation)"
   ]
  },
  {
   "cell_type": "code",
   "execution_count": 7,
   "metadata": {},
   "outputs": [
    {
     "data": {
      "text/plain": [
       "<readwriter.DataStreamWriter at 0x7f70d009cc10>"
      ]
     },
     "execution_count": 7,
     "metadata": {},
     "output_type": "execute_result"
    }
   ],
   "source": [
    "ap.writeStream.option('path','/home/alchemist/Desktop/OpenSource/streaming_test/').format('avro')"
   ]
  },
  {
   "cell_type": "code",
   "execution_count": 8,
   "metadata": {},
   "outputs": [],
   "source": [
    "ap.start()"
   ]
  },
  {
   "cell_type": "code",
   "execution_count": null,
   "metadata": {},
   "outputs": [],
   "source": [
    "from core import StreamProcessor\n",
    "sp = StreamProcessor()"
   ]
  },
  {
   "cell_type": "code",
   "execution_count": 9,
   "metadata": {},
   "outputs": [],
   "source": [
    "ops = {'kafka.bootstrap.servers':'localhost',\n",
    "                'subscribe': 'youtube',\n",
    "                'startingOffsets': 'earliest',\n",
    "                'kafka.group.id': 'g1'}"
   ]
  },
  {
   "cell_type": "code",
   "execution_count": null,
   "metadata": {},
   "outputs": [],
   "source": [
    "def transformation(df):\n",
    "    return df.tail(3)"
   ]
  },
  {
   "cell_type": "code",
   "execution_count": null,
   "metadata": {},
   "outputs": [],
   "source": [
    "sp.readStream.format('kafka').options(ops).load()"
   ]
  },
  {
   "cell_type": "code",
   "execution_count": null,
   "metadata": {},
   "outputs": [],
   "source": [
    "sp.add_transform(transformation)"
   ]
  },
  {
   "cell_type": "code",
   "execution_count": null,
   "metadata": {},
   "outputs": [],
   "source": [
    "sp.writeStream.option('path','/home/alchemist/Desktop/OpenSource/streaming_test/').format('parquet')"
   ]
  }
 ],
 "metadata": {
  "kernelspec": {
   "display_name": "datacx",
   "language": "python",
   "name": "python3"
  },
  "language_info": {
   "codemirror_mode": {
    "name": "ipython",
    "version": 3
   },
   "file_extension": ".py",
   "mimetype": "text/x-python",
   "name": "python",
   "nbconvert_exporter": "python",
   "pygments_lexer": "ipython3",
   "version": "3.7.16"
  },
  "orig_nbformat": 4
 },
 "nbformat": 4,
 "nbformat_minor": 2
}
